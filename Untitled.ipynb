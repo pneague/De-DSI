{
 "cells": [
  {
   "cell_type": "code",
   "execution_count": 44,
   "id": "78a8fcdd",
   "metadata": {},
   "outputs": [],
   "source": [
    "from itertools import combinations\n",
    "\n",
    "# Create a list with 10 instances of each letter\n",
    "elements = ['A'] * 10 + ['B'] * 10 + ['C'] * 10\n",
    "\n",
    "# Generate all unique combinations of 5 elements from the list\n",
    "total_combinations = list(combinations(elements, 5))\n",
    "\n",
    "# Count the number of combinations where 'A' appears at least twice\n",
    "count_a_at_least_twice = sum(1 for combo in unique_combinations if combo.count('A') >= 2)"
   ]
  },
  {
   "cell_type": "code",
   "execution_count": 45,
   "id": "f04e4d51",
   "metadata": {},
   "outputs": [],
   "source": [
    "count_a_at_least_twice = sum(1 for combo in total_combinations if combo.count('A') > 2)\n",
    "count_a_twice = sum(1 for combo in total_combinations if combo.count('A') == 2)\n",
    "count_a_at_least_once = sum(1 for combo in total_combinations if combo.count('A') >= 1)\n"
   ]
  },
  {
   "cell_type": "code",
   "execution_count": 35,
   "id": "e4a4b56a",
   "metadata": {},
   "outputs": [
    {
     "data": {
      "text/plain": [
       "0.6338427855669234"
      ]
     },
     "execution_count": 35,
     "metadata": {},
     "output_type": "execute_result"
    }
   ],
   "source": [
    "(count_a_at_least_once/5 + count_a_at_least_twice/2 + count_a_twice)/len(total_combinations)"
   ]
  },
  {
   "cell_type": "code",
   "execution_count": 36,
   "id": "6b648e3b",
   "metadata": {},
   "outputs": [
    {
     "data": {
      "text/plain": [
       "142506"
      ]
     },
     "execution_count": 36,
     "metadata": {},
     "output_type": "execute_result"
    }
   ],
   "source": [
    "len(total_combinations)"
   ]
  },
  {
   "cell_type": "code",
   "execution_count": 40,
   "id": "2b503f8c",
   "metadata": {},
   "outputs": [
    {
     "data": {
      "text/plain": [
       "['B', 'A', 'B', 'C', 'B']"
      ]
     },
     "execution_count": 40,
     "metadata": {},
     "output_type": "execute_result"
    }
   ],
   "source": [
    "import random\n",
    "\n",
    "random.sample(elements,5)"
   ]
  },
  {
   "cell_type": "code",
   "execution_count": 46,
   "id": "0f199819",
   "metadata": {},
   "outputs": [
    {
     "data": {
      "text/plain": [
       "0.992125"
      ]
     },
     "execution_count": 46,
     "metadata": {},
     "output_type": "execute_result"
    }
   ],
   "source": [
    "1 - (10/20 * 9/20 * 8/20 * 7/20 * 5/20)\n"
   ]
  },
  {
   "cell_type": "code",
   "execution_count": 47,
   "id": "ce052513",
   "metadata": {},
   "outputs": [
    {
     "data": {
      "text/plain": [
       "0.9282222222222223"
      ]
     },
     "execution_count": 47,
     "metadata": {},
     "output_type": "execute_result"
    }
   ],
   "source": [
    "1 - (20/30 * 19/30 * 18/30 * 17/30 * 15/30)"
   ]
  },
  {
   "cell_type": "code",
   "execution_count": null,
   "id": "4420d8dc",
   "metadata": {},
   "outputs": [],
   "source": []
  }
 ],
 "metadata": {
  "kernelspec": {
   "display_name": "Python 3 (ipykernel)",
   "language": "python",
   "name": "python3"
  },
  "language_info": {
   "codemirror_mode": {
    "name": "ipython",
    "version": 3
   },
   "file_extension": ".py",
   "mimetype": "text/x-python",
   "name": "python",
   "nbconvert_exporter": "python",
   "pygments_lexer": "ipython3",
   "version": "3.11.5"
  }
 },
 "nbformat": 4,
 "nbformat_minor": 5
}
